{
  "nbformat": 4,
  "nbformat_minor": 0,
  "metadata": {
    "colab": {
      "provenance": [],
      "authorship_tag": "ABX9TyMCvq3lC6RzQJrKwhBM0yxq",
      "include_colab_link": true
    },
    "kernelspec": {
      "name": "python3",
      "display_name": "Python 3"
    },
    "language_info": {
      "name": "python"
    }
  },
  "cells": [
    {
      "cell_type": "markdown",
      "metadata": {
        "id": "view-in-github",
        "colab_type": "text"
      },
      "source": [
        "<a href=\"https://colab.research.google.com/github/tiagoalvescordeiro/fiap_agro_insumos/blob/main/aplicacao_insumos_agricultura.ipynb\" target=\"_parent\"><img src=\"https://colab.research.google.com/assets/colab-badge.svg\" alt=\"Open In Colab\"/></a>"
      ]
    },
    {
      "cell_type": "code",
      "execution_count": null,
      "metadata": {
        "colab": {
          "base_uri": "https://localhost:8080/"
        },
        "id": "mhHpuSI8f6cM",
        "outputId": "ed6f2ac7-4269-45c3-f8cf-c9c57055e467"
      },
      "outputs": [
        {
          "output_type": "stream",
          "name": "stdout",
          "text": [
            "The rpy2.ipython extension is already loaded. To reload it, use:\n",
            "  %reload_ext rpy2.ipython\n"
          ]
        }
      ],
      "source": [
        "%load_ext rpy2.ipython"
      ]
    },
    {
      "cell_type": "code",
      "source": [
        "%%R\n",
        "area <- 10000\n",
        "calcario <- 0.1 * area\n",
        "gesso <- 0.05 * area\n",
        "print(paste(\"Calcário necessário:\", calcario, \"Kg\"))\n",
        "print(paste(\"Gesso necessário:\", gesso, \"Kg\"))"
      ],
      "metadata": {
        "colab": {
          "base_uri": "https://localhost:8080/"
        },
        "id": "Qk94xK0QhXml",
        "outputId": "c3164c87-ef12-40c1-cd6a-9dc3e882157f"
      },
      "execution_count": null,
      "outputs": [
        {
          "output_type": "stream",
          "name": "stdout",
          "text": [
            "[1] \"Calcário necessário: 1000 Kg\"\n",
            "[1] \"Gesso necessário: 500 Kg\"\n"
          ]
        }
      ]
    }
  ]
}